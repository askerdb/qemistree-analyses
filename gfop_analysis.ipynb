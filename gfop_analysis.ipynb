{
 "cells": [
  {
   "cell_type": "code",
   "execution_count": null,
   "metadata": {},
   "outputs": [],
   "source": [
    "!qiime cscs cscs --p-css-edges gfop_edges_translated.txt --i-features gfop_merged-feature-table.qza  --p-normalization --o-distance-matrix gfop_cscs_distance_matrix.qza --p-cpus 5 --p-chunk 1000"
   ]
  },
  {
   "cell_type": "code",
   "execution_count": 24,
   "metadata": {},
   "outputs": [],
   "source": [
    "import qiime2.plugins.diversity.actions as q2_diversity\n",
    "import qiime2.plugins.feature_table.actions as q2_feature_table\n",
    "from qiime2 import Artifact\n",
    "from qiime2 import Metadata\n",
    "import qiime2 as q2\n",
    "import pandas as pd\n",
    "from skbio.stats.distance import permanova\n",
    "from skbio import DistanceMatrix, OrdinationResults\n",
    "\n",
    "\n",
    "\n"
   ]
  },
  {
   "cell_type": "code",
   "execution_count": 16,
   "metadata": {},
   "outputs": [],
   "source": [
    "def load_mf(fn, index='sample_name', sep='\\t'):\n",
    "    _df = pd.read_csv(fn, sep=sep, dtype='str', na_values=[], keep_default_na=False)\n",
    "    _df.set_index(index, inplace=True)\n",
    "    return _df"
   ]
  },
  {
   "cell_type": "code",
   "execution_count": 46,
   "metadata": {},
   "outputs": [
    {
     "name": "stdout",
     "output_type": "stream",
     "text": [
      "method name               PERMANOVA\n",
      "test statistic name        pseudo-F\n",
      "sample size                     126\n",
      "number of groups                  5\n",
      "test statistic              4.63819\n",
      "p-value                       0.001\n",
      "number of permutations          999\n",
      "Name: PERMANOVA results, dtype: object\n",
      "method name               PERMANOVA\n",
      "test statistic name        pseudo-F\n",
      "sample size                     126\n",
      "number of groups                  5\n",
      "test statistic              5.34768\n",
      "p-value                       0.001\n",
      "number of permutations          999\n",
      "Name: PERMANOVA results, dtype: object\n",
      "method name               PERMANOVA\n",
      "test statistic name        pseudo-F\n",
      "sample size                     126\n",
      "number of groups                  6\n",
      "test statistic              4.53509\n",
      "p-value                       0.001\n",
      "number of permutations          999\n",
      "Name: PERMANOVA results, dtype: object\n",
      "method name               PERMANOVA\n",
      "test statistic name        pseudo-F\n",
      "sample size                     126\n",
      "number of groups                  6\n",
      "test statistic              5.15483\n",
      "p-value                       0.001\n",
      "number of permutations          999\n",
      "Name: PERMANOVA results, dtype: object\n",
      "method name               PERMANOVA\n",
      "test statistic name        pseudo-F\n",
      "sample size                     126\n",
      "number of groups                 11\n",
      "test statistic              4.74771\n",
      "p-value                       0.001\n",
      "number of permutations          999\n",
      "Name: PERMANOVA results, dtype: object\n",
      "method name               PERMANOVA\n",
      "test statistic name        pseudo-F\n",
      "sample size                     126\n",
      "number of groups                 11\n",
      "test statistic              4.85554\n",
      "p-value                       0.001\n",
      "number of permutations          999\n",
      "Name: PERMANOVA results, dtype: object\n",
      "method name               PERMANOVA\n",
      "test statistic name        pseudo-F\n",
      "sample size                     126\n",
      "number of groups                 23\n",
      "test statistic              5.76645\n",
      "p-value                       0.001\n",
      "number of permutations          999\n",
      "Name: PERMANOVA results, dtype: object\n",
      "method name               PERMANOVA\n",
      "test statistic name        pseudo-F\n",
      "sample size                     126\n",
      "number of groups                 23\n",
      "test statistic              5.35642\n",
      "p-value                       0.001\n",
      "number of permutations          999\n",
      "Name: PERMANOVA results, dtype: object\n"
     ]
    }
   ],
   "source": [
    "#Load distances\n",
    "cscs_dist = q2.Artifact.load(\"gfop_cscs_distance_matrix.qza\")\n",
    "cscs_dist_dm = cscs_dist.view(DistanceMatrix)\n",
    "qe_dist =  q2.Artifact.load(\"gfop_distance-matrix.qza\")\n",
    "qe_dist_dm = qe_dist.view(DistanceMatrix)\n",
    "\n",
    "#Load and filter mapping\n",
    "mapping = load_mf(\"gfop_modified_qiime2_metadata.tsv\")\n",
    "mappingf = mapping.loc[list(cscs_dist_dm.ids)]\n",
    "\n",
    "# Test sample_type_group1_labels\n",
    "sample_type_group1_labels = mappingf[\"sample_type_group1\"].values\n",
    "print(permanova(cscs_dist_dm, sample_type_group1_labels))\n",
    "print(permanova(qe_dist_dm, sample_type_group1_labels))\n",
    "\n",
    "# Test sample_type_group2_labels\n",
    "sample_type_group2_labels = mappingf[\"sample_type_group2\"].values\n",
    "print(permanova(cscs_dist_dm, sample_type_group2_labels))\n",
    "print(permanova(qe_dist_dm, sample_type_group2_labels))\n",
    "\n",
    "# Test sample_type_group3_labels\n",
    "sample_type_group3_labels = mappingf[\"sample_type_group3\"].values\n",
    "print(permanova(cscs_dist_dm, sample_type_group3_labels))\n",
    "print(permanova(qe_dist_dm, sample_type_group3_labels))\n",
    "\n",
    "# Test sample_type_group4_labels\n",
    "sample_type_group4_labels = mappingf[\"sample_type_group4\"].values\n",
    "print(permanova(cscs_dist_dm, sample_type_group4_labels))\n",
    "print(permanova(qe_dist_dm, sample_type_group4_labels))\n"
   ]
  },
  {
   "cell_type": "code",
   "execution_count": null,
   "metadata": {},
   "outputs": [],
   "source": []
  }
 ],
 "metadata": {
  "kernelspec": {
   "display_name": "Python 3",
   "language": "python",
   "name": "python3"
  },
  "language_info": {
   "codemirror_mode": {
    "name": "ipython",
    "version": 3
   },
   "file_extension": ".py",
   "mimetype": "text/x-python",
   "name": "python",
   "nbconvert_exporter": "python",
   "pygments_lexer": "ipython3",
   "version": "3.6.7"
  }
 },
 "nbformat": 4,
 "nbformat_minor": 2
}
